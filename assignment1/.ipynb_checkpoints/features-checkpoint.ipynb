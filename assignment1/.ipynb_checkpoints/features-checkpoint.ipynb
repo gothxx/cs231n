{
 "metadata": {
  "name": "",
  "signature": "sha256:92d2a37b138df7fc82fa995d2c57526a765e4aeb90f72e641d463dabd2082e6b"
 },
 "nbformat": 3,
 "nbformat_minor": 0,
 "worksheets": [
  {
   "cells": [
    {
     "cell_type": "markdown",
     "metadata": {},
     "source": [
      "# Image features exercise\n",
      "*Complete and hand in this completed worksheet (including its outputs and any supporting code outside of the worksheet) with your assignment submission. For more details see the [assignments page](http://vision.stanford.edu/teaching/cs231n/assignments.html) on the course website.*\n",
      "\n",
      "We have seen that we can achieve reasonable performance on an image classification task by training a linear classifier on the pixels of the input image. In this exercise we will show that we can improve our classification performance by training linear classifiers not on raw pixels but on features that are computed from the raw pixels.\n",
      "\n",
      "All of your work for this exercise will be done in this notebook."
     ]
    },
    {
     "cell_type": "code",
     "collapsed": false,
     "input": [
      "import random\n",
      "import numpy as np\n",
      "from cs231n.data_utils import load_CIFAR10\n",
      "import matplotlib.pyplot as plt\n",
      "%matplotlib inline\n",
      "plt.rcParams['figure.figsize'] = (10.0, 8.0) # set default size of plots\n",
      "plt.rcParams['image.interpolation'] = 'nearest'\n",
      "plt.rcParams['image.cmap'] = 'gray'\n",
      "\n",
      "# for auto-reloading extenrnal modules\n",
      "# see http://stackoverflow.com/questions/1907993/autoreload-of-modules-in-ipython\n",
      "%load_ext autoreload\n",
      "%autoreload 2"
     ],
     "language": "python",
     "metadata": {},
     "outputs": [],
     "prompt_number": 1
    },
    {
     "cell_type": "code",
     "collapsed": false,
     "input": [
      "# Load the CIFAR10 data\n",
      "from cs231n.features import color_histogram_hsv, hog_feature\n",
      "\n",
      "def get_CIFAR10_data(num_training=49000, num_validation=1000, num_test=1000):\n",
      "  # Load the raw CIFAR-10 data\n",
      "  cifar10_dir = 'cs231n/datasets/cifar-10-batches-py'\n",
      "  X_train, y_train, X_test, y_test = load_CIFAR10(cifar10_dir)\n",
      "  \n",
      "  # Subsample the data\n",
      "  mask = range(num_training, num_training + num_validation)\n",
      "  X_val = X_train[mask]\n",
      "  y_val = y_train[mask]\n",
      "  mask = range(num_training)\n",
      "  X_train = X_train[mask]\n",
      "  y_train = y_train[mask]\n",
      "  mask = range(num_test)\n",
      "  X_test = X_test[mask]\n",
      "  y_test = y_test[mask]\n",
      "\n",
      "  return X_train, y_train, X_val, y_val, X_test, y_test\n",
      "\n",
      "X_train, y_train, X_val, y_val, X_test, y_test = get_CIFAR10_data()"
     ],
     "language": "python",
     "metadata": {},
     "outputs": [],
     "prompt_number": 2
    },
    {
     "cell_type": "code",
     "collapsed": false,
     "input": [
      "from cs231n.features import *\n",
      "\n",
      "# Extract features. For each image we will compute a Histogram of Oriented\n",
      "# Gradients (HOG) as well as a color histogram using the hue channel in HSV\n",
      "# color space. We form our final feature vector for each image by concatenating\n",
      "# the HOG and color histogram feature vectors.\n",
      "#\n",
      "# Roughly speaking, HOG should capture the texture of the image while ignoring\n",
      "# color information, and the color histogram represents the color of the input\n",
      "# image while ignoring texture. As a result, we expect that using both together\n",
      "# ought to work better than using either alone. Verifying this assumption would\n",
      "# be a good thing to try for the bonus section.\n",
      "\n",
      "# The hog_feature and color_histogram_hsv functions both operate on a single\n",
      "# image and return a feature vector for that image. The extract_features\n",
      "# function takes a set of images and a list of feature functions and evaluates\n",
      "# each feature function on each image, storing the results in a matrix where\n",
      "# each column is the concatenation of all feature vectors for a single image.\n",
      "\n",
      "num_color_bins = 10 # Number of bins in the color histogram\n",
      "feature_fns = [hog_feature, lambda img: color_histogram_hsv(img, nbin=num_color_bins)]\n",
      "X_train_feats = extract_features(X_train, feature_fns, verbose=True)\n",
      "X_val_feats = extract_features(X_val, feature_fns)\n",
      "X_test_feats = extract_features(X_test, feature_fns)\n",
      "\n",
      "# Preprocessing: Subtract the mean feature\n",
      "mean_feat = np.mean(X_train_feats, axis=1)\n",
      "mean_feat = np.expand_dims(mean_feat, axis=1)\n",
      "X_train_feats -= mean_feat\n",
      "X_val_feats -= mean_feat\n",
      "X_test_feats -= mean_feat\n",
      "\n",
      "# Preprocessing: Divide by standard deviation. This ensures that each feature\n",
      "# has roughly the same scale.\n",
      "std_feat = np.std(X_train_feats, axis=1)\n",
      "std_feat = np.expand_dims(std_feat, axis=1)\n",
      "X_train_feats /= std_feat\n",
      "X_val_feats /= std_feat\n",
      "X_test_feats /= std_feat\n",
      "\n",
      "# Preprocessing: Add a bias dimension\n",
      "X_train_feats = np.vstack([X_train_feats, np.ones((1, X_train_feats.shape[1]))])\n",
      "X_val_feats = np.vstack([X_val_feats, np.ones((1, X_val_feats.shape[1]))])\n",
      "X_test_feats = np.vstack([X_test_feats, np.ones((1, X_test_feats.shape[1]))])"
     ],
     "language": "python",
     "metadata": {},
     "outputs": [
      {
       "output_type": "stream",
       "stream": "stdout",
       "text": [
        "Done extracting features for 1000 / 49000 images\n",
        "Done extracting features for 2000 / 49000 images"
       ]
      },
      {
       "output_type": "stream",
       "stream": "stdout",
       "text": [
        "\n",
        "Done extracting features for 3000 / 49000 images"
       ]
      },
      {
       "output_type": "stream",
       "stream": "stdout",
       "text": [
        "\n",
        "Done extracting features for 4000 / 49000 images"
       ]
      },
      {
       "output_type": "stream",
       "stream": "stdout",
       "text": [
        "\n",
        "Done extracting features for 5000 / 49000 images"
       ]
      },
      {
       "output_type": "stream",
       "stream": "stdout",
       "text": [
        "\n",
        "Done extracting features for 6000 / 49000 images"
       ]
      },
      {
       "output_type": "stream",
       "stream": "stdout",
       "text": [
        "\n",
        "Done extracting features for 7000 / 49000 images"
       ]
      },
      {
       "output_type": "stream",
       "stream": "stdout",
       "text": [
        "\n",
        "Done extracting features for 8000 / 49000 images"
       ]
      },
      {
       "output_type": "stream",
       "stream": "stdout",
       "text": [
        "\n",
        "Done extracting features for 9000 / 49000 images"
       ]
      },
      {
       "output_type": "stream",
       "stream": "stdout",
       "text": [
        "\n",
        "Done extracting features for 10000 / 49000 images"
       ]
      },
      {
       "output_type": "stream",
       "stream": "stdout",
       "text": [
        "\n",
        "Done extracting features for 11000 / 49000 images"
       ]
      },
      {
       "output_type": "stream",
       "stream": "stdout",
       "text": [
        "\n",
        "Done extracting features for 12000 / 49000 images"
       ]
      },
      {
       "output_type": "stream",
       "stream": "stdout",
       "text": [
        "\n",
        "Done extracting features for 13000 / 49000 images"
       ]
      },
      {
       "output_type": "stream",
       "stream": "stdout",
       "text": [
        "\n",
        "Done extracting features for 14000 / 49000 images"
       ]
      },
      {
       "output_type": "stream",
       "stream": "stdout",
       "text": [
        "\n",
        "Done extracting features for 15000 / 49000 images"
       ]
      },
      {
       "output_type": "stream",
       "stream": "stdout",
       "text": [
        "\n",
        "Done extracting features for 16000 / 49000 images"
       ]
      },
      {
       "output_type": "stream",
       "stream": "stdout",
       "text": [
        "\n",
        "Done extracting features for 17000 / 49000 images"
       ]
      },
      {
       "output_type": "stream",
       "stream": "stdout",
       "text": [
        "\n",
        "Done extracting features for 18000 / 49000 images"
       ]
      },
      {
       "output_type": "stream",
       "stream": "stdout",
       "text": [
        "\n",
        "Done extracting features for 19000 / 49000 images"
       ]
      },
      {
       "output_type": "stream",
       "stream": "stdout",
       "text": [
        "\n",
        "Done extracting features for 20000 / 49000 images"
       ]
      },
      {
       "output_type": "stream",
       "stream": "stdout",
       "text": [
        "\n",
        "Done extracting features for 21000 / 49000 images"
       ]
      },
      {
       "output_type": "stream",
       "stream": "stdout",
       "text": [
        "\n",
        "Done extracting features for 22000 / 49000 images"
       ]
      },
      {
       "output_type": "stream",
       "stream": "stdout",
       "text": [
        "\n",
        "Done extracting features for 23000 / 49000 images"
       ]
      },
      {
       "output_type": "stream",
       "stream": "stdout",
       "text": [
        "\n",
        "Done extracting features for 24000 / 49000 images"
       ]
      },
      {
       "output_type": "stream",
       "stream": "stdout",
       "text": [
        "\n",
        "Done extracting features for 25000 / 49000 images"
       ]
      },
      {
       "output_type": "stream",
       "stream": "stdout",
       "text": [
        "\n",
        "Done extracting features for 26000 / 49000 images"
       ]
      },
      {
       "output_type": "stream",
       "stream": "stdout",
       "text": [
        "\n",
        "Done extracting features for 27000 / 49000 images"
       ]
      },
      {
       "output_type": "stream",
       "stream": "stdout",
       "text": [
        "\n",
        "Done extracting features for 28000 / 49000 images"
       ]
      },
      {
       "output_type": "stream",
       "stream": "stdout",
       "text": [
        "\n",
        "Done extracting features for 29000 / 49000 images"
       ]
      },
      {
       "output_type": "stream",
       "stream": "stdout",
       "text": [
        "\n",
        "Done extracting features for 30000 / 49000 images"
       ]
      },
      {
       "output_type": "stream",
       "stream": "stdout",
       "text": [
        "\n",
        "Done extracting features for 31000 / 49000 images"
       ]
      },
      {
       "output_type": "stream",
       "stream": "stdout",
       "text": [
        "\n",
        "Done extracting features for 32000 / 49000 images"
       ]
      },
      {
       "output_type": "stream",
       "stream": "stdout",
       "text": [
        "\n",
        "Done extracting features for 33000 / 49000 images"
       ]
      },
      {
       "output_type": "stream",
       "stream": "stdout",
       "text": [
        "\n",
        "Done extracting features for 34000 / 49000 images"
       ]
      },
      {
       "output_type": "stream",
       "stream": "stdout",
       "text": [
        "\n",
        "Done extracting features for 35000 / 49000 images"
       ]
      },
      {
       "output_type": "stream",
       "stream": "stdout",
       "text": [
        "\n",
        "Done extracting features for 36000 / 49000 images"
       ]
      },
      {
       "output_type": "stream",
       "stream": "stdout",
       "text": [
        "\n",
        "Done extracting features for 37000 / 49000 images"
       ]
      },
      {
       "output_type": "stream",
       "stream": "stdout",
       "text": [
        "\n",
        "Done extracting features for 38000 / 49000 images"
       ]
      },
      {
       "output_type": "stream",
       "stream": "stdout",
       "text": [
        "\n",
        "Done extracting features for 39000 / 49000 images"
       ]
      },
      {
       "output_type": "stream",
       "stream": "stdout",
       "text": [
        "\n",
        "Done extracting features for 40000 / 49000 images"
       ]
      },
      {
       "output_type": "stream",
       "stream": "stdout",
       "text": [
        "\n",
        "Done extracting features for 41000 / 49000 images"
       ]
      },
      {
       "output_type": "stream",
       "stream": "stdout",
       "text": [
        "\n",
        "Done extracting features for 42000 / 49000 images"
       ]
      },
      {
       "output_type": "stream",
       "stream": "stdout",
       "text": [
        "\n",
        "Done extracting features for 43000 / 49000 images"
       ]
      },
      {
       "output_type": "stream",
       "stream": "stdout",
       "text": [
        "\n",
        "Done extracting features for 44000 / 49000 images"
       ]
      },
      {
       "output_type": "stream",
       "stream": "stdout",
       "text": [
        "\n",
        "Done extracting features for 45000 / 49000 images"
       ]
      },
      {
       "output_type": "stream",
       "stream": "stdout",
       "text": [
        "\n",
        "Done extracting features for 46000 / 49000 images"
       ]
      },
      {
       "output_type": "stream",
       "stream": "stdout",
       "text": [
        "\n",
        "Done extracting features for 47000 / 49000 images"
       ]
      },
      {
       "output_type": "stream",
       "stream": "stdout",
       "text": [
        "\n",
        "Done extracting features for 48000 / 49000 images"
       ]
      },
      {
       "output_type": "stream",
       "stream": "stdout",
       "text": [
        "\n"
       ]
      }
     ],
     "prompt_number": 3
    },
    {
     "cell_type": "code",
     "collapsed": false,
     "input": [
      "# Use the validation set to tune the learning rate and regularization strength\n",
      "\n",
      "from cs231n.classifiers.linear_classifier import LinearSVM\n",
      "\n",
      "learning_rates = [1e-9, 1e-8, 1e-7]\n",
      "regularization_strengths = [1e5, 1e6, 1e7]\n",
      "\n",
      "results = {}\n",
      "best_val = -1\n",
      "best_svm = None\n",
      "\n",
      "print X_train_feats.shape\n",
      "print X_val_feats.shape\n",
      "print X_test_feats.shape\n",
      "\n",
      "#X_train = np.reshape(X_train, (X_train.shape[0], -1))\n",
      "#X_val = np.reshape(X_val, (X_val.shape[0], -1))\n",
      "#X_test = np.reshape(X_test, (X_test.shape[0], -1))\n",
      "#pass\n",
      "################################################################################\n",
      "# TODO:                                                                        #\n",
      "# Use the validation set to set the learning rate and regularization strength. #\n",
      "# This should be identical to the validation that you did for the SVM; save    #\n",
      "# the best trained softmax classifer in best_svm. You might also want to play  #\n",
      "# with different numbers of bins in the color histogram. If you are careful    #\n",
      "# you should be able to get accuracy of near 0.44 on the validation set.       #\n",
      "################################################################################\n",
      "#pass\n",
      "num_iters=1500\n",
      "for lr in learning_rates:\n",
      "    for r in regularization_strengths:\n",
      "        print 'Params : lr = %f, r = %.2f' %(lr, r)\n",
      "        svm = LinearSVM()\n",
      "        svm.train(X_train_feats, y_train, learning_rate=lr, reg=r,\\\n",
      "                          num_iters=num_iters, verbose=False)\n",
      "        print svm.W.shape\n",
      "        y_train_pred = svm.predict(X_train_feats)\n",
      "        train_accuracy = np.mean(y_train_pred == y_train)\n",
      "        y_val_pred = svm.predict(X_val_feats)\n",
      "        val_accuracy = np.mean(y_val == y_val_pred)\n",
      "        if val_accuracy > best_val:\n",
      "            best_val = val_accuracy\n",
      "            best_svm = svm\n",
      "        print 'Validation accuracy: %f' % val_accuracy\n",
      "        results[(lr, r)] = [train_accuracy, val_accuracy]\n",
      "################################################################################\n",
      "#                              END OF YOUR CODE                                #\n",
      "################################################################################\n",
      "\n",
      "# Print out results.\n",
      "for lr, reg in sorted(results):\n",
      "    train_accuracy, val_accuracy = results[(lr, reg)]\n",
      "    print 'lr %e reg %e train accuracy: %f val accuracy: %f' % (\n",
      "                lr, reg, train_accuracy, val_accuracy)\n",
      "    \n",
      "print 'best validation accuracy achieved during cross-validation: %f' % best_val"
     ],
     "language": "python",
     "metadata": {},
     "outputs": [
      {
       "output_type": "stream",
       "stream": "stdout",
       "text": [
        "(155, 49000)\n",
        "(155, 1000)\n",
        "(155, 1000)\n",
        "Params : lr = 0.000000, r = 100000.00\n",
        "(10, 155)"
       ]
      },
      {
       "output_type": "stream",
       "stream": "stdout",
       "text": [
        "\n",
        "Validation accuracy: 0.101000"
       ]
      },
      {
       "output_type": "stream",
       "stream": "stdout",
       "text": [
        "\n",
        "Params : lr = 0.000000, r = 1000000.00\n",
        "(10, 155)"
       ]
      },
      {
       "output_type": "stream",
       "stream": "stdout",
       "text": [
        "\n",
        "Validation accuracy: 0.101000\n",
        "Params : lr = 0.000000, r = 10000000.00\n",
        "(10, 155)"
       ]
      },
      {
       "output_type": "stream",
       "stream": "stdout",
       "text": [
        "\n",
        "Validation accuracy: 0.417000"
       ]
      },
      {
       "output_type": "stream",
       "stream": "stdout",
       "text": [
        "\n",
        "Params : lr = 0.000000, r = 100000.00\n",
        "(10, 155)"
       ]
      },
      {
       "output_type": "stream",
       "stream": "stdout",
       "text": [
        "\n",
        "Validation accuracy: 0.136000\n",
        "Params : lr = 0.000000, r = 1000000.00\n",
        "(10, 155)"
       ]
      },
      {
       "output_type": "stream",
       "stream": "stdout",
       "text": [
        "\n",
        "Validation accuracy: 0.420000\n",
        "Params : lr = 0.000000, r = 10000000.00\n",
        "(10, 155)"
       ]
      },
      {
       "output_type": "stream",
       "stream": "stdout",
       "text": [
        "\n",
        "Validation accuracy: 0.407000\n",
        "Params : lr = 0.000000, r = 100000.00\n",
        "(10, 155)"
       ]
      },
      {
       "output_type": "stream",
       "stream": "stdout",
       "text": [
        "\n",
        "Validation accuracy: 0.426000\n",
        "Params : lr = 0.000000, r = 1000000.00\n",
        "(10, 155)"
       ]
      },
      {
       "output_type": "stream",
       "stream": "stdout",
       "text": [
        "\n",
        "Validation accuracy: 0.401000\n",
        "Params : lr = 0.000000, r = 10000000.00\n",
        "(10, 155)"
       ]
      },
      {
       "output_type": "stream",
       "stream": "stdout",
       "text": [
        "\n",
        "Validation accuracy: 0.340000\n",
        "lr 1.000000e-09 reg 1.000000e+05 train accuracy: 0.090857 val accuracy: 0.101000\n",
        "lr 1.000000e-09 reg 1.000000e+06 train accuracy: 0.101816 val accuracy: 0.101000\n",
        "lr 1.000000e-09 reg 1.000000e+07 train accuracy: 0.416592 val accuracy: 0.417000\n",
        "lr 1.000000e-08 reg 1.000000e+05 train accuracy: 0.114347 val accuracy: 0.136000\n",
        "lr 1.000000e-08 reg 1.000000e+06 train accuracy: 0.416306 val accuracy: 0.420000\n",
        "lr 1.000000e-08 reg 1.000000e+07 train accuracy: 0.403755 val accuracy: 0.407000\n",
        "lr 1.000000e-07 reg 1.000000e+05 train accuracy: 0.419816 val accuracy: 0.426000\n",
        "lr 1.000000e-07 reg 1.000000e+06 train accuracy: 0.399408 val accuracy: 0.401000\n",
        "lr 1.000000e-07 reg 1.000000e+07 train accuracy: 0.332469 val accuracy: 0.340000\n",
        "best validation accuracy achieved during cross-validation: 0.426000\n"
       ]
      }
     ],
     "prompt_number": 25
    },
    {
     "cell_type": "code",
     "collapsed": false,
     "input": [
      "# Evaluate your classifier on the test set\n",
      "y_test_pred = best_svm.predict(X_test_feats)\n",
      "test_accuracy = np.mean(y_test == y_test_pred)\n",
      "print test_accuracy"
     ],
     "language": "python",
     "metadata": {},
     "outputs": [
      {
       "output_type": "stream",
       "stream": "stdout",
       "text": [
        "0.423\n"
       ]
      }
     ],
     "prompt_number": 26
    },
    {
     "cell_type": "code",
     "collapsed": false,
     "input": [
      "# An important way to gain intuition about how an algorithm works is to\n",
      "# visualize the mistakes that it makes. In this visualization, we show examples\n",
      "# of images that are misclassified by our current system. The first column\n",
      "# shows images that our system labeled as \"plane\" but whose true label is\n",
      "# something other than \"plane\".\n",
      "\n",
      "examples_per_class = 8\n",
      "classes = ['plane', 'car', 'bird', 'cat', 'deer', 'dog', 'frog', 'horse', 'ship', 'truck']\n",
      "for cls, cls_name in enumerate(classes):\n",
      "    idxs = np.where((y_test != cls) & (y_test_pred == cls))[0]\n",
      "    idxs = np.random.choice(idxs, examples_per_class, replace=False)\n",
      "    for i, idx in enumerate(idxs):\n",
      "        plt.subplot(examples_per_class, len(classes), i * len(classes) + cls + 1)\n",
      "        plt.imshow(X_test[idx].astype('uint8'))\n",
      "        plt.axis('off')\n",
      "        if i == 0:\n",
      "            plt.title(cls_name)\n",
      "plt.show()"
     ],
     "language": "python",
     "metadata": {},
     "outputs": [
      {
       "ename": "TypeError",
       "evalue": "Invalid dimensions for image data",
       "output_type": "pyerr",
       "traceback": [
        "\u001b[0;31m---------------------------------------------------------------------------\u001b[0m\n\u001b[0;31mTypeError\u001b[0m                                 Traceback (most recent call last)",
        "\u001b[0;32m<ipython-input-29-5402e51612ec>\u001b[0m in \u001b[0;36m<module>\u001b[0;34m()\u001b[0m\n\u001b[1;32m     12\u001b[0m     \u001b[0;32mfor\u001b[0m \u001b[0mi\u001b[0m\u001b[0;34m,\u001b[0m \u001b[0midx\u001b[0m \u001b[0;32min\u001b[0m \u001b[0menumerate\u001b[0m\u001b[0;34m(\u001b[0m\u001b[0midxs\u001b[0m\u001b[0;34m)\u001b[0m\u001b[0;34m:\u001b[0m\u001b[0;34m\u001b[0m\u001b[0m\n\u001b[1;32m     13\u001b[0m         \u001b[0mplt\u001b[0m\u001b[0;34m.\u001b[0m\u001b[0msubplot\u001b[0m\u001b[0;34m(\u001b[0m\u001b[0mexamples_per_class\u001b[0m\u001b[0;34m,\u001b[0m \u001b[0mlen\u001b[0m\u001b[0;34m(\u001b[0m\u001b[0mclasses\u001b[0m\u001b[0;34m)\u001b[0m\u001b[0;34m,\u001b[0m \u001b[0mi\u001b[0m \u001b[0;34m*\u001b[0m \u001b[0mlen\u001b[0m\u001b[0;34m(\u001b[0m\u001b[0mclasses\u001b[0m\u001b[0;34m)\u001b[0m \u001b[0;34m+\u001b[0m \u001b[0mcls\u001b[0m \u001b[0;34m+\u001b[0m \u001b[0;36m1\u001b[0m\u001b[0;34m)\u001b[0m\u001b[0;34m\u001b[0m\u001b[0m\n\u001b[0;32m---> 14\u001b[0;31m         \u001b[0mplt\u001b[0m\u001b[0;34m.\u001b[0m\u001b[0mimshow\u001b[0m\u001b[0;34m(\u001b[0m\u001b[0mX_test\u001b[0m\u001b[0;34m[\u001b[0m\u001b[0midx\u001b[0m\u001b[0;34m]\u001b[0m\u001b[0;34m.\u001b[0m\u001b[0mastype\u001b[0m\u001b[0;34m(\u001b[0m\u001b[0;34m'uint8'\u001b[0m\u001b[0;34m)\u001b[0m\u001b[0;34m)\u001b[0m\u001b[0;34m\u001b[0m\u001b[0m\n\u001b[0m\u001b[1;32m     15\u001b[0m         \u001b[0mplt\u001b[0m\u001b[0;34m.\u001b[0m\u001b[0maxis\u001b[0m\u001b[0;34m(\u001b[0m\u001b[0;34m'off'\u001b[0m\u001b[0;34m)\u001b[0m\u001b[0;34m\u001b[0m\u001b[0m\n\u001b[1;32m     16\u001b[0m         \u001b[0;32mif\u001b[0m \u001b[0mi\u001b[0m \u001b[0;34m==\u001b[0m \u001b[0;36m0\u001b[0m\u001b[0;34m:\u001b[0m\u001b[0;34m\u001b[0m\u001b[0m\n",
        "\u001b[0;32m/usr/lib/pymodules/python2.7/matplotlib/pyplot.pyc\u001b[0m in \u001b[0;36mimshow\u001b[0;34m(X, cmap, norm, aspect, interpolation, alpha, vmin, vmax, origin, extent, shape, filternorm, filterrad, imlim, resample, url, hold, **kwargs)\u001b[0m\n\u001b[1;32m   2890\u001b[0m                         \u001b[0mvmax\u001b[0m\u001b[0;34m=\u001b[0m\u001b[0mvmax\u001b[0m\u001b[0;34m,\u001b[0m \u001b[0morigin\u001b[0m\u001b[0;34m=\u001b[0m\u001b[0morigin\u001b[0m\u001b[0;34m,\u001b[0m \u001b[0mextent\u001b[0m\u001b[0;34m=\u001b[0m\u001b[0mextent\u001b[0m\u001b[0;34m,\u001b[0m \u001b[0mshape\u001b[0m\u001b[0;34m=\u001b[0m\u001b[0mshape\u001b[0m\u001b[0;34m,\u001b[0m\u001b[0;34m\u001b[0m\u001b[0m\n\u001b[1;32m   2891\u001b[0m                         \u001b[0mfilternorm\u001b[0m\u001b[0;34m=\u001b[0m\u001b[0mfilternorm\u001b[0m\u001b[0;34m,\u001b[0m \u001b[0mfilterrad\u001b[0m\u001b[0;34m=\u001b[0m\u001b[0mfilterrad\u001b[0m\u001b[0;34m,\u001b[0m\u001b[0;34m\u001b[0m\u001b[0m\n\u001b[0;32m-> 2892\u001b[0;31m                         imlim=imlim, resample=resample, url=url, **kwargs)\n\u001b[0m\u001b[1;32m   2893\u001b[0m         \u001b[0mdraw_if_interactive\u001b[0m\u001b[0;34m(\u001b[0m\u001b[0;34m)\u001b[0m\u001b[0;34m\u001b[0m\u001b[0m\n\u001b[1;32m   2894\u001b[0m     \u001b[0;32mfinally\u001b[0m\u001b[0;34m:\u001b[0m\u001b[0;34m\u001b[0m\u001b[0m\n",
        "\u001b[0;32m/usr/lib/pymodules/python2.7/matplotlib/axes.pyc\u001b[0m in \u001b[0;36mimshow\u001b[0;34m(self, X, cmap, norm, aspect, interpolation, alpha, vmin, vmax, origin, extent, shape, filternorm, filterrad, imlim, resample, url, **kwargs)\u001b[0m\n\u001b[1;32m   7298\u001b[0m                        filterrad=filterrad, resample=resample, **kwargs)\n\u001b[1;32m   7299\u001b[0m \u001b[0;34m\u001b[0m\u001b[0m\n\u001b[0;32m-> 7300\u001b[0;31m         \u001b[0mim\u001b[0m\u001b[0;34m.\u001b[0m\u001b[0mset_data\u001b[0m\u001b[0;34m(\u001b[0m\u001b[0mX\u001b[0m\u001b[0;34m)\u001b[0m\u001b[0;34m\u001b[0m\u001b[0m\n\u001b[0m\u001b[1;32m   7301\u001b[0m         \u001b[0mim\u001b[0m\u001b[0;34m.\u001b[0m\u001b[0mset_alpha\u001b[0m\u001b[0;34m(\u001b[0m\u001b[0malpha\u001b[0m\u001b[0;34m)\u001b[0m\u001b[0;34m\u001b[0m\u001b[0m\n\u001b[1;32m   7302\u001b[0m         \u001b[0mself\u001b[0m\u001b[0;34m.\u001b[0m\u001b[0m_set_artist_props\u001b[0m\u001b[0;34m(\u001b[0m\u001b[0mim\u001b[0m\u001b[0;34m)\u001b[0m\u001b[0;34m\u001b[0m\u001b[0m\n",
        "\u001b[0;32m/usr/lib/pymodules/python2.7/matplotlib/image.pyc\u001b[0m in \u001b[0;36mset_data\u001b[0;34m(self, A)\u001b[0m\n\u001b[1;32m    427\u001b[0m         if (self._A.ndim not in (2, 3) or\n\u001b[1;32m    428\u001b[0m             (self._A.ndim == 3 and self._A.shape[-1] not in (3, 4))):\n\u001b[0;32m--> 429\u001b[0;31m             \u001b[0;32mraise\u001b[0m \u001b[0mTypeError\u001b[0m\u001b[0;34m(\u001b[0m\u001b[0;34m\"Invalid dimensions for image data\"\u001b[0m\u001b[0;34m)\u001b[0m\u001b[0;34m\u001b[0m\u001b[0m\n\u001b[0m\u001b[1;32m    430\u001b[0m \u001b[0;34m\u001b[0m\u001b[0m\n\u001b[1;32m    431\u001b[0m         \u001b[0mself\u001b[0m\u001b[0;34m.\u001b[0m\u001b[0m_imcache\u001b[0m \u001b[0;34m=\u001b[0m \u001b[0mNone\u001b[0m\u001b[0;34m\u001b[0m\u001b[0m\n",
        "\u001b[0;31mTypeError\u001b[0m: Invalid dimensions for image data"
       ]
      },
      {
       "metadata": {},
       "output_type": "display_data",
       "png": "[encoded data removed]",
       "text": [
        "<matplotlib.figure.Figure at 0x7fc102841790>"
       ]
      }
     ],
     "prompt_number": 29
    },
    {
     "cell_type": "markdown",
     "metadata": {},
     "source": [
      "### Inline question 1:\n",
      "Describe the misclassification results that you see. Do they make sense?"
     ]
    },
    {
     "cell_type": "markdown",
     "metadata": {},
     "source": [
      "# Bonus: Design your own features!\n",
      "\n",
      "You have seen that simple image features can improve classification performance. So far we have tried HOG and color histograms, but other types of features may be able to achieve even better classification performance.\n",
      "\n",
      "For bonus points, design and implement a new type of feature and use it for image classification on CIFAR-10. Explain how your feature works and why you expect it to be useful for image classification. Implement it in this notebook, cross-validate any hyperparameters, and compare its performance to the HOG + Color histogram baseline."
     ]
    },
    {
     "cell_type": "markdown",
     "metadata": {},
     "source": [
      "# Bonus: Do something extra!\n",
      "Use the material and code we have presented in this assignment to do something interesting. Was there another question we should have asked? Did any cool ideas pop into your head as you were working on the assignment? This is your chance to show off!"
     ]
    }
   ],
   "metadata": {}
  }
 ]
}